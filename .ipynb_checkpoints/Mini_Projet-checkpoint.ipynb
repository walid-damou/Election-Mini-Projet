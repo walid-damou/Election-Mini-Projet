{
 "cells": [
  {
   "cell_type": "code",
   "execution_count": 24,
   "metadata": {},
   "outputs": [],
   "source": [
    "def voteelectro():\n",
    "    c=0\n",
    "    v=0\n",
    "    print(\"\\t====================== BIENVENUE DANS LE PROGRAMME DE VOTE ELECTRONIQUE ======================\")\n",
    "    print(\"---Election 2020---\")\n",
    "    with open(\"électorale.txt\",\"r\")as f1:\n",
    "        with open(\"dejavoter.txt\",\"r\")as f2:\n",
    "            for line in f1:\n",
    "                c+=1\n",
    "            for lin in f2:\n",
    "                v+=1\n",
    "            print(\"Actuellement,\",v,\" personnes ont voté (sur \",c,\")\")\n",
    "            menu()"
   ]
  },
  {
   "cell_type": "code",
   "execution_count": 25,
   "metadata": {},
   "outputs": [],
   "source": [
    "def menu():\n",
    "    print(\"~~~~~~~~~~~~~~~~~~~~~~~~~~~~~~~~~~~~~\")\n",
    "    print(\" \\t1:Inscription\\n \\t2:Liste condidat\\n \\t3:Voter\\n \\t4:Statistiques\\n \\t5:Quitter\")\n",
    "    print(\"~~~~~~~~~~~~~~~~~~~~~~~~~~~~~~~~~~~~~\")\n",
    "    choix=eval(input(\"Tapes Votre Choix:\"))\n",
    "    if choix==1:\n",
    "        Inscription()\n",
    "        menu()\n",
    "    elif choix==2:\n",
    "        Liste_cands()\n",
    "        menu()\n",
    "    elif choix==3:\n",
    "        Voter() \n",
    "        menu()\n",
    "    elif choix==4:\n",
    "        Statistiques()\n",
    "        menu()\n",
    "    elif choix==5:\n",
    "        Quitter()\n",
    "    else:\n",
    "        print(\"Erreur\")\n",
    "        menu()"
   ]
  },
  {
   "cell_type": "code",
   "execution_count": 26,
   "metadata": {},
   "outputs": [],
   "source": [
    "def chercheele(prénom,nom):\n",
    "    with open(\"électorale.txt\",\"r\")as f1:\n",
    "        for e in f1:\n",
    "            w=e.split(\";\")\n",
    "            if (w[1]==prénom.upper() and w[2]==nom.upper()):\n",
    "                return True\n",
    "                break\n",
    "        return False"
   ]
  },
  {
   "cell_type": "code",
   "execution_count": 34,
   "metadata": {},
   "outputs": [],
   "source": [
    "import string\n",
    "import random\n",
    "def Inscription():\n",
    "    with open(\"électorale.txt\",\"r+\")as f0:\n",
    "        l=f0.readlines()\n",
    "        nom=input(\"Saisir votre nom :\")\n",
    "        prénom=input(\"Saisir votre prénom :\")\n",
    "        if chercheele(prénom,nom)==True:\n",
    "            print(\"vous êtes déjà inscrit\")\n",
    "        else:\n",
    "            print(\"*** inscription réussie ***\")\n",
    "            '''-----------------------------'''\n",
    "            print(\"Voila vos informations :\")\n",
    "            if 0<=len(l)+1<=9:\n",
    "                login='E00'+str(len(l)+1)\n",
    "            elif 10<=len(l)+1<=99:\n",
    "                login='E0'+str(len(l)+1)\n",
    "            else:\n",
    "                login='E'+str(len(l)+1)\n",
    "            '''-----------------------------'''\n",
    "            letters=string.ascii_uppercase\n",
    "            psw=str(''.join(random.choice(letters) for i in range(4)))+'@'\n",
    "            m=''\n",
    "            for i in range(4):\n",
    "                n=random.randint(0,9)\n",
    "                m=m+str(n)\n",
    "            psw=psw+m \n",
    "            f0.write(login+';'+prénom.upper()+';'+nom.upper()+';'+psw+'\\n')\n",
    "            '''-----------------------------'''\n",
    "            print(\"Login:\",login,\"\\nPassword:\",psw)"
   ]
  },
  {
   "cell_type": "code",
   "execution_count": 28,
   "metadata": {},
   "outputs": [],
   "source": [
    "def Liste_cands():\n",
    "    with open(\"candidats.txt\",\"r\") as f1:\n",
    "        i=1\n",
    "        for e in f1:\n",
    "            L=e.split(';')\n",
    "            print(\"Candidat\",i,\":\",L[1],L[2],\"\\tSymbole:\",L[0])\n",
    "            i+=1"
   ]
  },
  {
   "cell_type": "code",
   "execution_count": 29,
   "metadata": {},
   "outputs": [],
   "source": [
    "from getpass import getpass\n",
    "def Voter():\n",
    "    print(\"\\t◄ ◄ ◄ ◄ BIENVENUE CHEZ NOUS ► ► ► ►\")\n",
    "    print(\"Se connecter à votre compte:\")\n",
    "    lgn=input(\"Login:\")\n",
    "    pwd=getpass(\"Mot de passe:\")\n",
    "    with open(\"électorale.txt\",\"r\")as f1:\n",
    "        for line in f1:\n",
    "            yes=0\n",
    "            L=line.split(\";\")\n",
    "            if (lgn and pwd)in line:\n",
    "                yes=1\n",
    "                P=L\n",
    "                break\n",
    "        if yes==1:\n",
    "            '''++++++++++++++++++++++++++++++++++++++++++++++++++++++++++++++++++++++++++++++++++++++++'''\n",
    "            if chercher(lgn)==False:\n",
    "                print(\"\\n  Hey,\",P[1],P[2],\"\")\n",
    "                print(\"°°°°°°°°°°°°°°°°°°°°°°°°°°°°°°°°°\")\n",
    "                print(\"Voila la liste des candidats:\\n\")\n",
    "                Liste_cands()\n",
    "                with open(\"votes.txt\",\"r+\")as f3:\n",
    "                    v=input(\"Tapez votre choix:\")\n",
    "                    V=v.upper()\n",
    "                    val=input(\"Confirmation de choix(yes/no):\")\n",
    "                    '''-----------------------------------------------------------'''\n",
    "                    if val.upper()=='YES':\n",
    "                        with open(\"votes.txt\",\"rb\")as f3:\n",
    "                            p=pickle.Unpickler(f3)\n",
    "                            d=p.load()\n",
    "                            y=d[V]\n",
    "                            d[V]=y+1\n",
    "                            with open(\"votes.txt\",\"wb\") as f4:\n",
    "                                w=pickle.Pickler(f4)\n",
    "                                w.dump(d)\n",
    "                                print(\"Merci,L'opération a réussi\")\n",
    "             \n",
    "                    '''-----------------------------------------------------------'''\n",
    "                    if val.upper()=='NO':\n",
    "                        v=input(\"Tapez votre choix:\")\n",
    "                        V=v.upper()\n",
    "                        with open(\"votes.txt\",\"rb\")as f3:\n",
    "                            p=pickle.Unpickler(f3)\n",
    "                            d=p.load()\n",
    "                            y=d[V]\n",
    "                            d[V]=y+1\n",
    "                            with open(\"votes.txt\",\"wb\") as f4:\n",
    "                                w=pickle.Pickler(f4)\n",
    "                                w.dump(d)\n",
    "                                print(\"Merci,L'opération a réussi\")\n",
    "                    '''-----------------------------------------------------------'''\n",
    "                    with open(\"dejavoter.txt\",\"a+\") as f5:\n",
    "                            f5.write(lgn.upper()+'\\n')\n",
    "            else: \n",
    "                print(\"Vous avez déjà voter\") \n",
    "            '''++++++++++++++++++++++++++++++++++++++++++++++++++++++++++++++++++++++++++++++++++++++++'''        \n",
    "        else:\n",
    "            print(\"--->Mot de passe OU Login incorrecte\\n--->Est-ce que vous êtes sur inscrit dans la liste des electorale?\")"
   ]
  },
  {
   "cell_type": "code",
   "execution_count": 30,
   "metadata": {},
   "outputs": [],
   "source": [
    "def chercher(lgn):\n",
    "    with open(\"dejavoter.txt\",\"r\")as f0:\n",
    "        for e in f0:\n",
    "            if str(lgn.upper())+'\\n'==e:\n",
    "                return True\n",
    "                break\n",
    "        return False"
   ]
  },
  {
   "cell_type": "code",
   "execution_count": 31,
   "metadata": {},
   "outputs": [],
   "source": [
    "import pickle\n",
    "def Statistiques():\n",
    "    c=0\n",
    "    with open(\"votes.txt\",\"rb\")as f0:\n",
    "        with open(\"dejavoter.txt\",\"r\") as f1:\n",
    "            with open(\"candidats.txt\",\"r\") as f2:\n",
    "                i=1\n",
    "                for w in f1:\n",
    "                    c+=1\n",
    "                pc=pickle.Unpickler(f0)\n",
    "                d=pc.load()\n",
    "                k=d.keys()\n",
    "                for e in k:\n",
    "                    t=d[e]\n",
    "                    for r in f2:\n",
    "                        L=r.split(';')\n",
    "                        print(L[1],L[2],\":\",t,\"votes\",\"(\",(t/c)*100,\"%)\")\n",
    "                        break"
   ]
  },
  {
   "cell_type": "code",
   "execution_count": 32,
   "metadata": {},
   "outputs": [],
   "source": [
    "def Quitter():\n",
    "    print(\"Au revoir et Merci \")"
   ]
  },
  {
   "cell_type": "code",
   "execution_count": 39,
   "metadata": {},
   "outputs": [
    {
     "name": "stdout",
     "output_type": "stream",
     "text": [
      "\t====================== BIENVENUE DANS LE PROGRAMME DE VOTE ELECTRONIQUE ======================\n",
      "---Election 2020---\n",
      "Actuellement, 13  personnes ont voté (sur  17 )\n",
      "~~~~~~~~~~~~~~~~~~~~~~~~~~~~~~~~~~~~~\n",
      " \t1:Inscription\n",
      " \t2:Liste condidat\n",
      " \t3:Voter\n",
      " \t4:Statistiques\n",
      " \t5:Quitter\n",
      "~~~~~~~~~~~~~~~~~~~~~~~~~~~~~~~~~~~~~\n",
      "Tapes Votre Choix:5\n",
      "Au revoir et Merci \n"
     ]
    }
   ],
   "source": [
    "voteelectro()"
   ]
  },
  {
   "cell_type": "code",
   "execution_count": null,
   "metadata": {},
   "outputs": [],
   "source": []
  }
 ],
 "metadata": {
  "kernelspec": {
   "display_name": "Python 3",
   "language": "python",
   "name": "python3"
  },
  "language_info": {
   "codemirror_mode": {
    "name": "ipython",
    "version": 3
   },
   "file_extension": ".py",
   "mimetype": "text/x-python",
   "name": "python",
   "nbconvert_exporter": "python",
   "pygments_lexer": "ipython3",
   "version": "3.7.4"
  }
 },
 "nbformat": 4,
 "nbformat_minor": 2
}
